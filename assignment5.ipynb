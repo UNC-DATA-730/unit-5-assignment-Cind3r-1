{
 "cells": [
  {
   "cell_type": "markdown",
   "id": "df0d234f-1e1a-4495-8208-e177e7f527aa",
   "metadata": {},
   "source": [
    "Complete the exercises below For **Assignment #5**."
   ]
  },
  {
   "cell_type": "markdown",
   "id": "dda5a856-c272-4fdd-8670-d66a0cf2c7e4",
   "metadata": {},
   "source": [
    "In this exercise, we are building a logistic regression classification model. We'll work with the [Pima Indians Diabetes Database](https://www.kaggle.com/datasets/uciml/pima-indians-diabetes-database).  "
   ]
  },
  {
   "cell_type": "markdown",
   "id": "c123800d-7139-4c31-ba42-82b8a8eb7ff5",
   "metadata": {},
   "source": [
    "Load the `tidymodels` library. "
   ]
  },
  {
   "cell_type": "code",
   "execution_count": 4,
   "id": "047c6e53-68f8-466b-ae3c-1bc19e288f27",
   "metadata": {
    "vscode": {
     "languageId": "r"
    }
   },
   "outputs": [],
   "source": [
    "library(tidymodels)\n",
    "\n"
   ]
  },
  {
   "cell_type": "markdown",
   "id": "c6ef6a10-5b45-4857-b776-a81f92a0b682",
   "metadata": {},
   "source": [
    "The data is located in your homework directory in the `diabetes.csv` file. Read in the data by running the following cell. We are \"splitting\" the data into training and testing sets. We will evaluate our model's performance with the test set."
   ]
  },
  {
   "cell_type": "code",
   "execution_count": 5,
   "id": "e68fb274-ddbe-4ae0-a927-2c4d57d3b31a",
   "metadata": {
    "vscode": {
     "languageId": "r"
    }
   },
   "outputs": [
    {
     "name": "stderr",
     "output_type": "stream",
     "text": [
      "\u001b[1mRows: \u001b[22m\u001b[34m768\u001b[39m \u001b[1mColumns: \u001b[22m\u001b[34m9\u001b[39m\n",
      "\u001b[36m──\u001b[39m \u001b[1mColumn specification\u001b[22m \u001b[36m────────────────────────────────────────────────────────\u001b[39m\n",
      "\u001b[1mDelimiter:\u001b[22m \",\"\n",
      "\u001b[32mdbl\u001b[39m (9): Pregnancies, Glucose, BloodPressure, SkinThickness, Insulin, BMI, D...\n",
      "\n",
      "\u001b[36mℹ\u001b[39m Use `spec()` to retrieve the full column specification for this data.\n",
      "\u001b[36mℹ\u001b[39m Specify the column types or set `show_col_types = FALSE` to quiet this message.\n"
     ]
    }
   ],
   "source": [
    "diabetes = readr::read_csv('diabetes.csv') |> mutate(Outcome = factor(Outcome))\n",
    "\n",
    "split = initial_split(diabetes, strata = Outcome)\n",
    "\n",
    "diabetes_train = training(split)\n",
    "diabetes_test = testing(split)"
   ]
  },
  {
   "cell_type": "markdown",
   "id": "8b09de69-a735-4176-9eae-39479d2a3836",
   "metadata": {},
   "source": [
    "Glimpse the `diabetes_train` table."
   ]
  },
  {
   "cell_type": "code",
   "execution_count": 6,
   "id": "31877cc1-ae94-4002-9c95-30244b8df393",
   "metadata": {
    "vscode": {
     "languageId": "r"
    }
   },
   "outputs": [
    {
     "name": "stdout",
     "output_type": "stream",
     "text": [
      "Rows: 576\n",
      "Columns: 9\n",
      "$ Pregnancies              \u001b[3m\u001b[90m<dbl>\u001b[39m\u001b[23m 1, 5, 10, 4, 8, 1, 13, 5, 5, 3, 3, 7, 7, 7, 1…\n",
      "$ Glucose                  \u001b[3m\u001b[90m<dbl>\u001b[39m\u001b[23m 89, 116, 115, 110, 99, 97, 145, 117, 109, 88,…\n",
      "$ BloodPressure            \u001b[3m\u001b[90m<dbl>\u001b[39m\u001b[23m 66, 74, 0, 92, 84, 66, 82, 92, 75, 58, 64, 92…\n",
      "$ SkinThickness            \u001b[3m\u001b[90m<dbl>\u001b[39m\u001b[23m 23, 0, 0, 0, 0, 15, 19, 0, 26, 11, 25, 18, 0,…\n",
      "$ Insulin                  \u001b[3m\u001b[90m<dbl>\u001b[39m\u001b[23m 94, 0, 0, 0, 0, 140, 110, 0, 0, 54, 70, 0, 0,…\n",
      "$ BMI                      \u001b[3m\u001b[90m<dbl>\u001b[39m\u001b[23m 28.1, 25.6, 35.3, 37.6, 35.4, 23.2, 22.2, 34.…\n",
      "$ DiabetesPedigreeFunction \u001b[3m\u001b[90m<dbl>\u001b[39m\u001b[23m 0.167, 0.201, 0.134, 0.191, 0.388, 0.487, 0.2…\n",
      "$ Age                      \u001b[3m\u001b[90m<dbl>\u001b[39m\u001b[23m 21, 30, 29, 30, 50, 22, 57, 38, 60, 22, 26, 4…\n",
      "$ Outcome                  \u001b[3m\u001b[90m<fct>\u001b[39m\u001b[23m 0, 0, 0, 0, 0, 0, 0, 0, 0, 0, 0, 0, 0, 0, 0, …\n"
     ]
    }
   ],
   "source": [
    "glimpse(diabetes_train)\n",
    "\n"
   ]
  },
  {
   "cell_type": "code",
   "execution_count": 12,
   "id": "be41b0f6",
   "metadata": {
    "vscode": {
     "languageId": "r"
    }
   },
   "outputs": [
    {
     "data": {
      "text/html": [
       "<table class=\"dataframe\">\n",
       "<caption>A tibble: 6 × 9</caption>\n",
       "<thead>\n",
       "\t<tr><th scope=col>Pregnancies</th><th scope=col>Glucose</th><th scope=col>BloodPressure</th><th scope=col>SkinThickness</th><th scope=col>Insulin</th><th scope=col>BMI</th><th scope=col>DiabetesPedigreeFunction</th><th scope=col>Age</th><th scope=col>Outcome</th></tr>\n",
       "\t<tr><th scope=col>&lt;dbl&gt;</th><th scope=col>&lt;dbl&gt;</th><th scope=col>&lt;dbl&gt;</th><th scope=col>&lt;dbl&gt;</th><th scope=col>&lt;dbl&gt;</th><th scope=col>&lt;dbl&gt;</th><th scope=col>&lt;dbl&gt;</th><th scope=col>&lt;dbl&gt;</th><th scope=col>&lt;fct&gt;</th></tr>\n",
       "</thead>\n",
       "<tbody>\n",
       "\t<tr><td>6</td><td>148</td><td>72</td><td>35</td><td>  0</td><td>33.6</td><td>0.627</td><td>50</td><td>1</td></tr>\n",
       "\t<tr><td>1</td><td> 85</td><td>66</td><td>29</td><td>  0</td><td>26.6</td><td>0.351</td><td>31</td><td>0</td></tr>\n",
       "\t<tr><td>8</td><td>183</td><td>64</td><td> 0</td><td>  0</td><td>23.3</td><td>0.672</td><td>32</td><td>1</td></tr>\n",
       "\t<tr><td>1</td><td> 89</td><td>66</td><td>23</td><td> 94</td><td>28.1</td><td>0.167</td><td>21</td><td>0</td></tr>\n",
       "\t<tr><td>0</td><td>137</td><td>40</td><td>35</td><td>168</td><td>43.1</td><td>2.288</td><td>33</td><td>1</td></tr>\n",
       "\t<tr><td>5</td><td>116</td><td>74</td><td> 0</td><td>  0</td><td>25.6</td><td>0.201</td><td>30</td><td>0</td></tr>\n",
       "</tbody>\n",
       "</table>\n"
      ],
      "text/latex": [
       "A tibble: 6 × 9\n",
       "\\begin{tabular}{lllllllll}\n",
       " Pregnancies & Glucose & BloodPressure & SkinThickness & Insulin & BMI & DiabetesPedigreeFunction & Age & Outcome\\\\\n",
       " <dbl> & <dbl> & <dbl> & <dbl> & <dbl> & <dbl> & <dbl> & <dbl> & <fct>\\\\\n",
       "\\hline\n",
       "\t 6 & 148 & 72 & 35 &   0 & 33.6 & 0.627 & 50 & 1\\\\\n",
       "\t 1 &  85 & 66 & 29 &   0 & 26.6 & 0.351 & 31 & 0\\\\\n",
       "\t 8 & 183 & 64 &  0 &   0 & 23.3 & 0.672 & 32 & 1\\\\\n",
       "\t 1 &  89 & 66 & 23 &  94 & 28.1 & 0.167 & 21 & 0\\\\\n",
       "\t 0 & 137 & 40 & 35 & 168 & 43.1 & 2.288 & 33 & 1\\\\\n",
       "\t 5 & 116 & 74 &  0 &   0 & 25.6 & 0.201 & 30 & 0\\\\\n",
       "\\end{tabular}\n"
      ],
      "text/markdown": [
       "\n",
       "A tibble: 6 × 9\n",
       "\n",
       "| Pregnancies &lt;dbl&gt; | Glucose &lt;dbl&gt; | BloodPressure &lt;dbl&gt; | SkinThickness &lt;dbl&gt; | Insulin &lt;dbl&gt; | BMI &lt;dbl&gt; | DiabetesPedigreeFunction &lt;dbl&gt; | Age &lt;dbl&gt; | Outcome &lt;fct&gt; |\n",
       "|---|---|---|---|---|---|---|---|---|\n",
       "| 6 | 148 | 72 | 35 |   0 | 33.6 | 0.627 | 50 | 1 |\n",
       "| 1 |  85 | 66 | 29 |   0 | 26.6 | 0.351 | 31 | 0 |\n",
       "| 8 | 183 | 64 |  0 |   0 | 23.3 | 0.672 | 32 | 1 |\n",
       "| 1 |  89 | 66 | 23 |  94 | 28.1 | 0.167 | 21 | 0 |\n",
       "| 0 | 137 | 40 | 35 | 168 | 43.1 | 2.288 | 33 | 1 |\n",
       "| 5 | 116 | 74 |  0 |   0 | 25.6 | 0.201 | 30 | 0 |\n",
       "\n"
      ],
      "text/plain": [
       "  Pregnancies Glucose BloodPressure SkinThickness Insulin BMI \n",
       "1 6           148     72            35              0     33.6\n",
       "2 1            85     66            29              0     26.6\n",
       "3 8           183     64             0              0     23.3\n",
       "4 1            89     66            23             94     28.1\n",
       "5 0           137     40            35            168     43.1\n",
       "6 5           116     74             0              0     25.6\n",
       "  DiabetesPedigreeFunction Age Outcome\n",
       "1 0.627                    50  1      \n",
       "2 0.351                    31  0      \n",
       "3 0.672                    32  1      \n",
       "4 0.167                    21  0      \n",
       "5 2.288                    33  1      \n",
       "6 0.201                    30  0      "
      ]
     },
     "metadata": {},
     "output_type": "display_data"
    }
   ],
   "source": [
    "diabetes |> head()\n"
   ]
  },
  {
   "cell_type": "markdown",
   "id": "c061892f-14af-4342-8098-6799d6117391",
   "metadata": {},
   "source": [
    "❓ Which variable is suitable as the \"outcome\" in a logistic regression model?\n",
    "\n",
    "**Answer:**"
   ]
  },
  {
   "cell_type": "markdown",
   "id": "acd3a70e-6107-40c1-85f4-0c5e8563c85c",
   "metadata": {},
   "source": [
    "`Outcome` would be the suitable *outcome* in a logistic regression model. In context of the data presented I would assume it is essentially a True or False for whether or not the individual is diabetic. "
   ]
  },
  {
   "cell_type": "markdown",
   "id": "16827b78-d5b4-4037-b89b-fa2ed13f0968",
   "metadata": {},
   "source": [
    "❓ Navigate to [Kaggle page](https://www.kaggle.com/datasets/mathchi/diabetes-data-set) for this dataset. Find descriptions for the `Glucose` and `BMI` columns. Add these descriptions to the [Markdown table](https://www.markdownguide.org/extended-syntax/#tables) below."
   ]
  },
  {
   "cell_type": "markdown",
   "id": "8025ad75-2a7b-43cd-9df4-77677abdf492",
   "metadata": {},
   "source": [
    "| Column name | Description |\n",
    "| :---------- | :---------- |\n",
    "| Glucose     | Plasma glucose concentration a 2 hours in an oral glucose tolerance test            |\n",
    "| BMI         | Body mass index (weight in kg/(height in m)^2)            |"
   ]
  },
  {
   "cell_type": "markdown",
   "id": "1ad31340-2c33-48a6-9a5b-468b970e670c",
   "metadata": {},
   "source": [
    "Make a bar chart showing the frequency of each \"outcome\" in the `Outcome` column from your `diabetes_train` data."
   ]
  },
  {
   "cell_type": "code",
   "execution_count": 20,
   "id": "579fb58c-0b0d-4fff-9b0e-826d38247a29",
   "metadata": {
    "vscode": {
     "languageId": "r"
    }
   },
   "outputs": [
    {
     "data": {
      "image/png": "[encoded data removed]",
      "text/plain": [
       "plot without title"
      ]
     },
     "metadata": {
      "image/png": {
       "height": 500,
       "width": 625
      }
     },
     "output_type": "display_data"
    }
   ],
   "source": [
    "diabetes_train |> \n",
    "    count(Outcome) |> \n",
    "    ggplot(aes(x = Outcome, y = n, fill = Outcome)) +\n",
    "    geom_bar(stat = \"identity\") +\n",
    "    labs(title = \"Frequency of Each Outcome\", x = \"Outcome\", y = \"Count\") \n",
    "    "
   ]
  },
  {
   "cell_type": "markdown",
   "id": "cc6a0694-256c-45a1-bcf5-bdebeb472a7b",
   "metadata": {},
   "source": [
    "❓ Is the data balanced? I.e. do we have equal counts of each outcome?\n",
    "\n",
    "**Answer:**"
   ]
  },
  {
   "cell_type": "markdown",
   "id": "f2da066b-d46a-4f7f-afe8-37c8a9439164",
   "metadata": {},
   "source": [
    "No it is **not balanaced**, there is almost a 2:1 ratio of non-diabetic to diabetic data points. \n",
    "\n",
    "***"
   ]
  },
  {
   "cell_type": "markdown",
   "id": "f7cbe99d-468c-45fa-83ba-7a372b1557e5",
   "metadata": {},
   "source": [
    "Run the code below to create a table for plotting the predictors we will use in our model: `Glucose` and `BMI`. "
   ]
  },
  {
   "cell_type": "code",
   "execution_count": 21,
   "id": "f65b95e2-0a95-4684-8017-30ae1b8bee5f",
   "metadata": {
    "vscode": {
     "languageId": "r"
    }
   },
   "outputs": [
    {
     "data": {
      "text/html": [
       "<table class=\"dataframe\">\n",
       "<caption>A tibble: 6 × 3</caption>\n",
       "<thead>\n",
       "\t<tr><th scope=col>Outcome</th><th scope=col>name</th><th scope=col>value</th></tr>\n",
       "\t<tr><th scope=col>&lt;fct&gt;</th><th scope=col>&lt;chr&gt;</th><th scope=col>&lt;dbl&gt;</th></tr>\n",
       "</thead>\n",
       "<tbody>\n",
       "\t<tr><td>0</td><td>Glucose</td><td> 89.0</td></tr>\n",
       "\t<tr><td>0</td><td>BMI    </td><td> 28.1</td></tr>\n",
       "\t<tr><td>0</td><td>Glucose</td><td>116.0</td></tr>\n",
       "\t<tr><td>0</td><td>BMI    </td><td> 25.6</td></tr>\n",
       "\t<tr><td>0</td><td>Glucose</td><td>115.0</td></tr>\n",
       "\t<tr><td>0</td><td>BMI    </td><td> 35.3</td></tr>\n",
       "</tbody>\n",
       "</table>\n"
      ],
      "text/latex": [
       "A tibble: 6 × 3\n",
       "\\begin{tabular}{lll}\n",
       " Outcome & name & value\\\\\n",
       " <fct> & <chr> & <dbl>\\\\\n",
       "\\hline\n",
       "\t 0 & Glucose &  89.0\\\\\n",
       "\t 0 & BMI     &  28.1\\\\\n",
       "\t 0 & Glucose & 116.0\\\\\n",
       "\t 0 & BMI     &  25.6\\\\\n",
       "\t 0 & Glucose & 115.0\\\\\n",
       "\t 0 & BMI     &  35.3\\\\\n",
       "\\end{tabular}\n"
      ],
      "text/markdown": [
       "\n",
       "A tibble: 6 × 3\n",
       "\n",
       "| Outcome &lt;fct&gt; | name &lt;chr&gt; | value &lt;dbl&gt; |\n",
       "|---|---|---|\n",
       "| 0 | Glucose |  89.0 |\n",
       "| 0 | BMI     |  28.1 |\n",
       "| 0 | Glucose | 116.0 |\n",
       "| 0 | BMI     |  25.6 |\n",
       "| 0 | Glucose | 115.0 |\n",
       "| 0 | BMI     |  35.3 |\n",
       "\n"
      ],
      "text/plain": [
       "  Outcome name    value\n",
       "1 0       Glucose  89.0\n",
       "2 0       BMI      28.1\n",
       "3 0       Glucose 116.0\n",
       "4 0       BMI      25.6\n",
       "5 0       Glucose 115.0\n",
       "6 0       BMI      35.3"
      ]
     },
     "metadata": {},
     "output_type": "display_data"
    }
   ],
   "source": [
    "plot_df = diabetes_train |>\n",
    "    select(Outcome, Glucose, BMI) |>\n",
    "    pivot_longer(cols = c(Glucose, BMI))\n",
    "\n",
    "plot_df |> head()"
   ]
  },
  {
   "cell_type": "markdown",
   "id": "67ccafeb-cd48-41cf-b3b8-d027aba80966",
   "metadata": {},
   "source": [
    "Using `plot_df`, make a chart showing the relationship of `Glucose` and `BMI` with `Outcome`. \n",
    "\n",
    "- use `geom_jitter` for your \"geom\"\n",
    "- `facet_wrap` your chart by the `name` variable. (e.g. `facet_wrap(~name, ncol = 2, scales = 'free_x')`)"
   ]
  },
  {
   "cell_type": "code",
   "execution_count": 33,
   "id": "d8025f46-2434-4b03-8f44-39d89f905c25",
   "metadata": {
    "vscode": {
     "languageId": "r"
    }
   },
   "outputs": [
    {
     "data": {
      "image/png": "[encoded data removed]",
      "text/plain": [
       "plot without title"
      ]
     },
     "metadata": {
      "image/png": {
       "height": 500,
       "width": 625
      }
     },
     "output_type": "display_data"
    },
    {
     "data": {
      "image/png": "[encoded data removed]",
      "text/plain": [
       "plot without title"
      ]
     },
     "metadata": {
      "image/png": {
       "height": 500,
       "width": 625
      }
     },
     "output_type": "display_data"
    }
   ],
   "source": [
    "plot_df |>\n",
    "    ggplot(aes(x = value, y = Outcome))+\n",
    "    geom_jitter()+\n",
    "    facet_wrap(~name, ncol = 2, scales = 'free_x')\n",
    "\n",
    "plot_df |>\n",
    "    ggplot(aes(x = value, y = Outcome))+\n",
    "    geom_jitter()+\n",
    "    facet_wrap(~name, ncol = 2)\n",
    "    \n"
   ]
  },
  {
   "cell_type": "code",
   "execution_count": 34,
   "id": "53438b6f",
   "metadata": {
    "vscode": {
     "languageId": "r"
    }
   },
   "outputs": [],
   "source": [
    "#plot_df |>\n",
    " #   ggplot(aes(x = Outcome, y = value))+\n",
    "#    geom_jitter()+\n",
    " #   facet_wrap(~name, ncol = 2, scales = 'free_x')\n",
    "\n",
    "#plot_df |>\n",
    " #   ggplot(aes(x = Outcome, y = value))+\n",
    " #   geom_jitter()+\n",
    "  #  facet_wrap(~name, ncol = 2)"
   ]
  },
  {
   "cell_type": "markdown",
   "id": "29a0eccb-f3d5-49f5-b397-92b35b45e514",
   "metadata": {},
   "source": [
    "❓ What happens when you remove the `scales = 'free_x'` argument from the `facet_wrap` function?\n",
    "\n",
    "**Answer:**"
   ]
  },
  {
   "cell_type": "markdown",
   "id": "ce75916b-76c8-4dfc-8829-3a9c97212b5d",
   "metadata": {},
   "source": [
    "\n",
    "When you remove the `scales = 'free_x'` argument from the `facet_wrap` function, the x-axes of the facets are no longer allowed to have different scales. This means that both `BMI` will share the same x-axis scale as `Glucose`, making it harder to interpret the data.\n",
    "***"
   ]
  },
  {
   "cell_type": "markdown",
   "id": "935e60ea-5f33-4eba-97c0-59f0a3792ecf",
   "metadata": {},
   "source": [
    "Using your training data, build logistic regression model of `Outcome` with `BMI` and `Glucose` as predictors. \n",
    "- Use \"glm\" for you engine\n",
    "- The formula for your fit function will be `Outcome ~ BMI + Glucose`"
   ]
  },
  {
   "cell_type": "code",
   "execution_count": 35,
   "id": "27dddfd6-efb4-4edf-a9e4-7e6239ef0216",
   "metadata": {
    "vscode": {
     "languageId": "r"
    }
   },
   "outputs": [
    {
     "data": {
      "text/html": [
       "<table class=\"dataframe\">\n",
       "<caption>A tibble: 3 × 5</caption>\n",
       "<thead>\n",
       "\t<tr><th scope=col>term</th><th scope=col>estimate</th><th scope=col>std.error</th><th scope=col>statistic</th><th scope=col>p.value</th></tr>\n",
       "\t<tr><th scope=col>&lt;chr&gt;</th><th scope=col>&lt;dbl&gt;</th><th scope=col>&lt;dbl&gt;</th><th scope=col>&lt;dbl&gt;</th><th scope=col>&lt;dbl&gt;</th></tr>\n",
       "</thead>\n",
       "<tbody>\n",
       "\t<tr><td>(Intercept)</td><td>-7.82274430</td><td>0.711855831</td><td>-10.989226</td><td>4.306050e-28</td></tr>\n",
       "\t<tr><td>BMI        </td><td> 0.08820230</td><td>0.015567286</td><td>  5.665876</td><td>1.462756e-08</td></tr>\n",
       "\t<tr><td>Glucose    </td><td> 0.03435769</td><td>0.003781907</td><td>  9.084752</td><td>1.039357e-19</td></tr>\n",
       "</tbody>\n",
       "</table>\n"
      ],
      "text/latex": [
       "A tibble: 3 × 5\n",
       "\\begin{tabular}{lllll}\n",
       " term & estimate & std.error & statistic & p.value\\\\\n",
       " <chr> & <dbl> & <dbl> & <dbl> & <dbl>\\\\\n",
       "\\hline\n",
       "\t (Intercept) & -7.82274430 & 0.711855831 & -10.989226 & 4.306050e-28\\\\\n",
       "\t BMI         &  0.08820230 & 0.015567286 &   5.665876 & 1.462756e-08\\\\\n",
       "\t Glucose     &  0.03435769 & 0.003781907 &   9.084752 & 1.039357e-19\\\\\n",
       "\\end{tabular}\n"
      ],
      "text/markdown": [
       "\n",
       "A tibble: 3 × 5\n",
       "\n",
       "| term &lt;chr&gt; | estimate &lt;dbl&gt; | std.error &lt;dbl&gt; | statistic &lt;dbl&gt; | p.value &lt;dbl&gt; |\n",
       "|---|---|---|---|---|\n",
       "| (Intercept) | -7.82274430 | 0.711855831 | -10.989226 | 4.306050e-28 |\n",
       "| BMI         |  0.08820230 | 0.015567286 |   5.665876 | 1.462756e-08 |\n",
       "| Glucose     |  0.03435769 | 0.003781907 |   9.084752 | 1.039357e-19 |\n",
       "\n"
      ],
      "text/plain": [
       "  term        estimate    std.error   statistic  p.value     \n",
       "1 (Intercept) -7.82274430 0.711855831 -10.989226 4.306050e-28\n",
       "2 BMI          0.08820230 0.015567286   5.665876 1.462756e-08\n",
       "3 Glucose      0.03435769 0.003781907   9.084752 1.039357e-19"
      ]
     },
     "metadata": {},
     "output_type": "display_data"
    }
   ],
   "source": [
    "rec =  recipe(Outcome ~ BMI + Glucose, data = diabetes_train) |> \n",
    "    step_naomit(everything()) |>   # remove missing values\n",
    "    prep()     \n",
    "\n",
    "mod = logistic_reg() |> set_engine('glm')\n",
    "     \n",
    "mod_fit = mod |> fit(Outcome ~ ., juice(rec))\n",
    "\n",
    "tidy(mod_fit)\n",
    "\n"
   ]
  },
  {
   "cell_type": "markdown",
   "id": "9a1aa2d0-b6b4-42ad-8ac5-17c90e4bb216",
   "metadata": {},
   "source": [
    "Using `augment` with your fitted model and the `diabetes_test` data as arguments, create a new dataset called `diabetes_test_wPred` that is the `diabetes_test` table including predictions from your model. "
   ]
  },
  {
   "cell_type": "code",
   "execution_count": 37,
   "id": "36e7fbfa-b71a-4175-bcc1-e565a748c124",
   "metadata": {
    "vscode": {
     "languageId": "r"
    }
   },
   "outputs": [
    {
     "data": {
      "text/html": [
       "<table class=\"dataframe\">\n",
       "<caption>A tibble: 6 × 12</caption>\n",
       "<thead>\n",
       "\t<tr><th scope=col>.pred_class</th><th scope=col>.pred_0</th><th scope=col>.pred_1</th><th scope=col>Pregnancies</th><th scope=col>Glucose</th><th scope=col>BloodPressure</th><th scope=col>SkinThickness</th><th scope=col>Insulin</th><th scope=col>BMI</th><th scope=col>DiabetesPedigreeFunction</th><th scope=col>Age</th><th scope=col>Outcome</th></tr>\n",
       "\t<tr><th scope=col>&lt;fct&gt;</th><th scope=col>&lt;dbl&gt;</th><th scope=col>&lt;dbl&gt;</th><th scope=col>&lt;dbl&gt;</th><th scope=col>&lt;dbl&gt;</th><th scope=col>&lt;dbl&gt;</th><th scope=col>&lt;dbl&gt;</th><th scope=col>&lt;dbl&gt;</th><th scope=col>&lt;dbl&gt;</th><th scope=col>&lt;dbl&gt;</th><th scope=col>&lt;dbl&gt;</th><th scope=col>&lt;fct&gt;</th></tr>\n",
       "</thead>\n",
       "<tbody>\n",
       "\t<tr><td>0</td><td>0.9279862</td><td>0.07201378</td><td> 1</td><td> 85</td><td>66</td><td>29</td><td>  0</td><td>26.6</td><td>0.351</td><td>31</td><td>0</td></tr>\n",
       "\t<tr><td>1</td><td>0.3728928</td><td>0.62710723</td><td> 8</td><td>183</td><td>64</td><td> 0</td><td>  0</td><td>23.3</td><td>0.672</td><td>32</td><td>1</td></tr>\n",
       "\t<tr><td>1</td><td>0.3349728</td><td>0.66502719</td><td> 0</td><td>137</td><td>40</td><td>35</td><td>168</td><td>43.1</td><td>2.288</td><td>33</td><td>1</td></tr>\n",
       "\t<tr><td>0</td><td>0.6585284</td><td>0.34147164</td><td>10</td><td>139</td><td>80</td><td> 0</td><td>  0</td><td>27.1</td><td>1.441</td><td>57</td><td>0</td></tr>\n",
       "\t<tr><td>0</td><td>0.6141386</td><td>0.38586139</td><td> 1</td><td>103</td><td>30</td><td>38</td><td> 83</td><td>43.3</td><td>0.183</td><td>33</td><td>0</td></tr>\n",
       "\t<tr><td>0</td><td>0.5068308</td><td>0.49316923</td><td> 3</td><td>126</td><td>88</td><td>41</td><td>235</td><td>39.3</td><td>0.704</td><td>27</td><td>0</td></tr>\n",
       "</tbody>\n",
       "</table>\n"
      ],
      "text/latex": [
       "A tibble: 6 × 12\n",
       "\\begin{tabular}{llllllllllll}\n",
       " .pred\\_class & .pred\\_0 & .pred\\_1 & Pregnancies & Glucose & BloodPressure & SkinThickness & Insulin & BMI & DiabetesPedigreeFunction & Age & Outcome\\\\\n",
       " <fct> & <dbl> & <dbl> & <dbl> & <dbl> & <dbl> & <dbl> & <dbl> & <dbl> & <dbl> & <dbl> & <fct>\\\\\n",
       "\\hline\n",
       "\t 0 & 0.9279862 & 0.07201378 &  1 &  85 & 66 & 29 &   0 & 26.6 & 0.351 & 31 & 0\\\\\n",
       "\t 1 & 0.3728928 & 0.62710723 &  8 & 183 & 64 &  0 &   0 & 23.3 & 0.672 & 32 & 1\\\\\n",
       "\t 1 & 0.3349728 & 0.66502719 &  0 & 137 & 40 & 35 & 168 & 43.1 & 2.288 & 33 & 1\\\\\n",
       "\t 0 & 0.6585284 & 0.34147164 & 10 & 139 & 80 &  0 &   0 & 27.1 & 1.441 & 57 & 0\\\\\n",
       "\t 0 & 0.6141386 & 0.38586139 &  1 & 103 & 30 & 38 &  83 & 43.3 & 0.183 & 33 & 0\\\\\n",
       "\t 0 & 0.5068308 & 0.49316923 &  3 & 126 & 88 & 41 & 235 & 39.3 & 0.704 & 27 & 0\\\\\n",
       "\\end{tabular}\n"
      ],
      "text/markdown": [
       "\n",
       "A tibble: 6 × 12\n",
       "\n",
       "| .pred_class &lt;fct&gt; | .pred_0 &lt;dbl&gt; | .pred_1 &lt;dbl&gt; | Pregnancies &lt;dbl&gt; | Glucose &lt;dbl&gt; | BloodPressure &lt;dbl&gt; | SkinThickness &lt;dbl&gt; | Insulin &lt;dbl&gt; | BMI &lt;dbl&gt; | DiabetesPedigreeFunction &lt;dbl&gt; | Age &lt;dbl&gt; | Outcome &lt;fct&gt; |\n",
       "|---|---|---|---|---|---|---|---|---|---|---|---|\n",
       "| 0 | 0.9279862 | 0.07201378 |  1 |  85 | 66 | 29 |   0 | 26.6 | 0.351 | 31 | 0 |\n",
       "| 1 | 0.3728928 | 0.62710723 |  8 | 183 | 64 |  0 |   0 | 23.3 | 0.672 | 32 | 1 |\n",
       "| 1 | 0.3349728 | 0.66502719 |  0 | 137 | 40 | 35 | 168 | 43.1 | 2.288 | 33 | 1 |\n",
       "| 0 | 0.6585284 | 0.34147164 | 10 | 139 | 80 |  0 |   0 | 27.1 | 1.441 | 57 | 0 |\n",
       "| 0 | 0.6141386 | 0.38586139 |  1 | 103 | 30 | 38 |  83 | 43.3 | 0.183 | 33 | 0 |\n",
       "| 0 | 0.5068308 | 0.49316923 |  3 | 126 | 88 | 41 | 235 | 39.3 | 0.704 | 27 | 0 |\n",
       "\n"
      ],
      "text/plain": [
       "  .pred_class .pred_0   .pred_1    Pregnancies Glucose BloodPressure\n",
       "1 0           0.9279862 0.07201378  1           85     66           \n",
       "2 1           0.3728928 0.62710723  8          183     64           \n",
       "3 1           0.3349728 0.66502719  0          137     40           \n",
       "4 0           0.6585284 0.34147164 10          139     80           \n",
       "5 0           0.6141386 0.38586139  1          103     30           \n",
       "6 0           0.5068308 0.49316923  3          126     88           \n",
       "  SkinThickness Insulin BMI  DiabetesPedigreeFunction Age Outcome\n",
       "1 29              0     26.6 0.351                    31  0      \n",
       "2  0              0     23.3 0.672                    32  1      \n",
       "3 35            168     43.1 2.288                    33  1      \n",
       "4  0              0     27.1 1.441                    57  0      \n",
       "5 38             83     43.3 0.183                    33  0      \n",
       "6 41            235     39.3 0.704                    27  0      "
      ]
     },
     "metadata": {},
     "output_type": "display_data"
    }
   ],
   "source": [
    "diabetes_test_wPred = augment(mod_fit, new_data = diabetes_test)\n",
    "diabetes_test_wPred |> head()"
   ]
  },
  {
   "cell_type": "markdown",
   "id": "f35cf7da-ca1e-42d3-a27b-e79193a1ccfd",
   "metadata": {},
   "source": [
    "Run the code below to generate a confusion matrix for your model predictions. \n",
    "\n",
    "(❗️Hint: See Table 4.4 from [*Introduction to Statistical Learning (Version 2)*](https://www.statlearning.com/) for an example confusion matrix.)"
   ]
  },
  {
   "cell_type": "code",
   "execution_count": 38,
   "id": "fb3bfae0-9d17-48a0-bde7-4891f91a07aa",
   "metadata": {
    "vscode": {
     "languageId": "r"
    }
   },
   "outputs": [
    {
     "data": {
      "text/plain": [
       "          Truth\n",
       "Prediction   0   1\n",
       "         0 112  37\n",
       "         1  13  30"
      ]
     },
     "metadata": {},
     "output_type": "display_data"
    }
   ],
   "source": [
    "diabetes_test_wPred = augment(mod_fit, new_data = diabetes_test)\n",
    "\n",
    "diabetes_test_wPred |> conf_mat(Outcome, .pred_class)"
   ]
  },
  {
   "cell_type": "markdown",
   "id": "7dc9a16d-9fda-4fcc-8e62-52c3e5849e26",
   "metadata": {},
   "source": [
    "❓ Based on the confusion matrix above, \n",
    "- How many individuals had diabetes in your test data?\n",
    "- Of those that actually had diabetes, how many were predicted to have diabetes by your model?\n",
    "- How many individuals predicted to have diabetes did not have diabetes?\n",
    "\n",
    "**Answer:**"
   ]
  },
  {
   "cell_type": "code",
   "execution_count": 39,
   "id": "d06ed7b5",
   "metadata": {
    "vscode": {
     "languageId": "r"
    }
   },
   "outputs": [
    {
     "data": {
      "text/html": [
       "<table class=\"dataframe\">\n",
       "<caption>A tibble: 2 × 2</caption>\n",
       "<thead>\n",
       "\t<tr><th scope=col>Outcome</th><th scope=col>n</th></tr>\n",
       "\t<tr><th scope=col>&lt;fct&gt;</th><th scope=col>&lt;int&gt;</th></tr>\n",
       "</thead>\n",
       "<tbody>\n",
       "\t<tr><td>0</td><td>125</td></tr>\n",
       "\t<tr><td>1</td><td> 67</td></tr>\n",
       "</tbody>\n",
       "</table>\n"
      ],
      "text/latex": [
       "A tibble: 2 × 2\n",
       "\\begin{tabular}{ll}\n",
       " Outcome & n\\\\\n",
       " <fct> & <int>\\\\\n",
       "\\hline\n",
       "\t 0 & 125\\\\\n",
       "\t 1 &  67\\\\\n",
       "\\end{tabular}\n"
      ],
      "text/markdown": [
       "\n",
       "A tibble: 2 × 2\n",
       "\n",
       "| Outcome &lt;fct&gt; | n &lt;int&gt; |\n",
       "|---|---|\n",
       "| 0 | 125 |\n",
       "| 1 |  67 |\n",
       "\n"
      ],
      "text/plain": [
       "  Outcome n  \n",
       "1 0       125\n",
       "2 1        67"
      ]
     },
     "metadata": {},
     "output_type": "display_data"
    }
   ],
   "source": [
    "diabetes_test |> count(Outcome)"
   ]
  },
  {
   "cell_type": "markdown",
   "id": "a759514d-7d82-4c40-9f8e-dab37b73e59a",
   "metadata": {},
   "source": [
    "\n",
    "| P \\ T  | 0 | 1 | \n",
    "| :---------- | :---------- | :---------- |\n",
    "| 0         |   [112 / 125] | [37 / 67] (wrong) |\n",
    "| 1          |  [ 13 / 125 ] (wrong)  | [30 / 67] |\n",
    "\n",
    "- In the test dataset, the number of individuals who have diabetes is **67**, the model correctly predicted **30** out of these **67** individuals. \n",
    "- **13** individuals were predicted to have diabetes when they infact did not have diabetes. \n",
    "- For **125** individuals, **112** were correctly predicted to not have diabetes. \n",
    "\n",
    "All of these aspects suggest there is another factor other than Glucose and BMI to take into consideration what causes an individual to be diabetic. However Glucose and BMI seem to be a good factor in telling if an individual is **NOT diabetic**. \n",
    "\n",
    "***\n"
   ]
  }
 ],
 "metadata": {
  "kernelspec": {
   "display_name": "R",
   "language": "R",
   "name": "ir"
  },
  "language_info": {
   "codemirror_mode": "r",
   "file_extension": ".r",
   "mimetype": "text/x-r-source",
   "name": "R",
   "pygments_lexer": "r",
   "version": "4.4.2"
  }
 },
 "nbformat": 4,
 "nbformat_minor": 5
}
